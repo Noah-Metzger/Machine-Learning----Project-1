{
 "cells": [
  {
   "cell_type": "code",
   "execution_count": 1,
   "id": "be6abbdb",
   "metadata": {},
   "outputs": [],
   "source": [
    "import pandas as pd\n",
    "import numpy as np\n",
    "import math\n",
    "#ONLY TO TEST ACCUARACY METHODS: FROM HERE\n",
    "from sklearn.model_selection import train_test_split\n",
    "from sklearn.preprocessing import StandardScaler\n",
    "from sklearn.naive_bayes import GaussianNB\n",
    "from sklearn.metrics import classification_report\n",
    "#TO HERE\n",
    "from numpy import random\n",
    "import matplotlib.pyplot as plt"
   ]
  },
  {
   "cell_type": "code",
   "execution_count": 2,
   "id": "d3da4dda",
   "metadata": {},
   "outputs": [
    {
     "data": {
      "text/html": [
       "<div>\n",
       "<style scoped>\n",
       "    .dataframe tbody tr th:only-of-type {\n",
       "        vertical-align: middle;\n",
       "    }\n",
       "\n",
       "    .dataframe tbody tr th {\n",
       "        vertical-align: top;\n",
       "    }\n",
       "\n",
       "    .dataframe thead th {\n",
       "        text-align: right;\n",
       "    }\n",
       "</style>\n",
       "<table border=\"1\" class=\"dataframe\">\n",
       "  <thead>\n",
       "    <tr style=\"text-align: right;\">\n",
       "      <th></th>\n",
       "      <th>0</th>\n",
       "      <th>1</th>\n",
       "      <th>2</th>\n",
       "      <th>3</th>\n",
       "      <th>4</th>\n",
       "      <th>5</th>\n",
       "      <th>6</th>\n",
       "      <th>7</th>\n",
       "      <th>8</th>\n",
       "      <th>9</th>\n",
       "      <th>10</th>\n",
       "    </tr>\n",
       "  </thead>\n",
       "  <tbody>\n",
       "    <tr>\n",
       "      <th>0</th>\n",
       "      <td>1000025</td>\n",
       "      <td>5</td>\n",
       "      <td>1</td>\n",
       "      <td>1</td>\n",
       "      <td>1</td>\n",
       "      <td>2</td>\n",
       "      <td>1</td>\n",
       "      <td>3</td>\n",
       "      <td>1</td>\n",
       "      <td>1</td>\n",
       "      <td>2</td>\n",
       "    </tr>\n",
       "    <tr>\n",
       "      <th>1</th>\n",
       "      <td>1002945</td>\n",
       "      <td>5</td>\n",
       "      <td>4</td>\n",
       "      <td>4</td>\n",
       "      <td>5</td>\n",
       "      <td>7</td>\n",
       "      <td>10</td>\n",
       "      <td>3</td>\n",
       "      <td>2</td>\n",
       "      <td>1</td>\n",
       "      <td>2</td>\n",
       "    </tr>\n",
       "    <tr>\n",
       "      <th>2</th>\n",
       "      <td>1015425</td>\n",
       "      <td>3</td>\n",
       "      <td>1</td>\n",
       "      <td>1</td>\n",
       "      <td>1</td>\n",
       "      <td>2</td>\n",
       "      <td>2</td>\n",
       "      <td>3</td>\n",
       "      <td>1</td>\n",
       "      <td>1</td>\n",
       "      <td>2</td>\n",
       "    </tr>\n",
       "    <tr>\n",
       "      <th>3</th>\n",
       "      <td>1016277</td>\n",
       "      <td>6</td>\n",
       "      <td>8</td>\n",
       "      <td>8</td>\n",
       "      <td>1</td>\n",
       "      <td>3</td>\n",
       "      <td>4</td>\n",
       "      <td>3</td>\n",
       "      <td>7</td>\n",
       "      <td>1</td>\n",
       "      <td>2</td>\n",
       "    </tr>\n",
       "    <tr>\n",
       "      <th>4</th>\n",
       "      <td>1017023</td>\n",
       "      <td>4</td>\n",
       "      <td>1</td>\n",
       "      <td>1</td>\n",
       "      <td>3</td>\n",
       "      <td>2</td>\n",
       "      <td>1</td>\n",
       "      <td>3</td>\n",
       "      <td>1</td>\n",
       "      <td>1</td>\n",
       "      <td>2</td>\n",
       "    </tr>\n",
       "    <tr>\n",
       "      <th>...</th>\n",
       "      <td>...</td>\n",
       "      <td>...</td>\n",
       "      <td>...</td>\n",
       "      <td>...</td>\n",
       "      <td>...</td>\n",
       "      <td>...</td>\n",
       "      <td>...</td>\n",
       "      <td>...</td>\n",
       "      <td>...</td>\n",
       "      <td>...</td>\n",
       "      <td>...</td>\n",
       "    </tr>\n",
       "    <tr>\n",
       "      <th>694</th>\n",
       "      <td>776715</td>\n",
       "      <td>3</td>\n",
       "      <td>1</td>\n",
       "      <td>1</td>\n",
       "      <td>1</td>\n",
       "      <td>3</td>\n",
       "      <td>2</td>\n",
       "      <td>1</td>\n",
       "      <td>1</td>\n",
       "      <td>1</td>\n",
       "      <td>2</td>\n",
       "    </tr>\n",
       "    <tr>\n",
       "      <th>695</th>\n",
       "      <td>841769</td>\n",
       "      <td>2</td>\n",
       "      <td>1</td>\n",
       "      <td>1</td>\n",
       "      <td>1</td>\n",
       "      <td>2</td>\n",
       "      <td>1</td>\n",
       "      <td>1</td>\n",
       "      <td>1</td>\n",
       "      <td>1</td>\n",
       "      <td>2</td>\n",
       "    </tr>\n",
       "    <tr>\n",
       "      <th>696</th>\n",
       "      <td>888820</td>\n",
       "      <td>5</td>\n",
       "      <td>10</td>\n",
       "      <td>10</td>\n",
       "      <td>3</td>\n",
       "      <td>7</td>\n",
       "      <td>3</td>\n",
       "      <td>8</td>\n",
       "      <td>10</td>\n",
       "      <td>2</td>\n",
       "      <td>4</td>\n",
       "    </tr>\n",
       "    <tr>\n",
       "      <th>697</th>\n",
       "      <td>897471</td>\n",
       "      <td>4</td>\n",
       "      <td>8</td>\n",
       "      <td>6</td>\n",
       "      <td>4</td>\n",
       "      <td>3</td>\n",
       "      <td>4</td>\n",
       "      <td>10</td>\n",
       "      <td>6</td>\n",
       "      <td>1</td>\n",
       "      <td>4</td>\n",
       "    </tr>\n",
       "    <tr>\n",
       "      <th>698</th>\n",
       "      <td>897471</td>\n",
       "      <td>4</td>\n",
       "      <td>8</td>\n",
       "      <td>8</td>\n",
       "      <td>5</td>\n",
       "      <td>4</td>\n",
       "      <td>5</td>\n",
       "      <td>10</td>\n",
       "      <td>4</td>\n",
       "      <td>1</td>\n",
       "      <td>4</td>\n",
       "    </tr>\n",
       "  </tbody>\n",
       "</table>\n",
       "<p>699 rows × 11 columns</p>\n",
       "</div>"
      ],
      "text/plain": [
       "          0   1   2   3   4   5   6   7   8   9   10\n",
       "0    1000025   5   1   1   1   2   1   3   1   1   2\n",
       "1    1002945   5   4   4   5   7  10   3   2   1   2\n",
       "2    1015425   3   1   1   1   2   2   3   1   1   2\n",
       "3    1016277   6   8   8   1   3   4   3   7   1   2\n",
       "4    1017023   4   1   1   3   2   1   3   1   1   2\n",
       "..       ...  ..  ..  ..  ..  ..  ..  ..  ..  ..  ..\n",
       "694   776715   3   1   1   1   3   2   1   1   1   2\n",
       "695   841769   2   1   1   1   2   1   1   1   1   2\n",
       "696   888820   5  10  10   3   7   3   8  10   2   4\n",
       "697   897471   4   8   6   4   3   4  10   6   1   4\n",
       "698   897471   4   8   8   5   4   5  10   4   1   4\n",
       "\n",
       "[699 rows x 11 columns]"
      ]
     },
     "execution_count": 2,
     "metadata": {},
     "output_type": "execute_result"
    }
   ],
   "source": [
    "breastCancer = pd.read_csv('Data/breast-cancer-wisconsin.csv', header=None)\n",
    "glass = pd.read_csv('Data/glass.csv', header=None)\n",
    "houseVotes = pd.read_csv('Data/house-votes-84.csv', header=None)\n",
    "iris = pd.read_csv('Data/iris.csv', header=None)\n",
    "soyBean = pd.read_csv('Data/soybean-small.csv', header=None)\n",
    "datasets = [breastCancer, glass, houseVotes, iris, soyBean]\n",
    "breastCancer"
   ]
  },
  {
   "cell_type": "code",
   "execution_count": 3,
   "id": "ba5a0b7b",
   "metadata": {},
   "outputs": [],
   "source": [
    "#Removes instances with missing values\n",
    "def removesMissingValues(df):\n",
    "    checkItems = [\"?\"]\n",
    "    missingRows = []\n",
    "    for i, row in df.iterrows():\n",
    "        isMissing = False\n",
    "        for j, value in row.items():\n",
    "            for k in checkItems:\n",
    "                if value == k or value == math.nan:\n",
    "                    isMissing = True\n",
    "        if isMissing:\n",
    "            missingRows.append(i)\n",
    "    df.drop(missingRows, axis=0, inplace=True)\n",
    "    return df"
   ]
  },
  {
   "cell_type": "code",
   "execution_count": 4,
   "id": "e297063d",
   "metadata": {},
   "outputs": [],
   "source": [
    "def fillMean(df):\n",
    "    checkItems = [\"?\"]\n",
    "    for col in df:\n",
    "        missingIndex = []\n",
    "        for index, value in df[col].items():\n",
    "            for k in checkItems:\n",
    "                if value == k or value == math.nan:\n",
    "                    isMissing = True\n",
    "        if len(missingIndex) > 0:\n",
    "            newCol = df[col]\n",
    "            newCol.drop(missingIndex)\n",
    "            mean = newCol.mean()\n",
    "            for i in missingIndex:\n",
    "                df[col][i] = mean\n",
    "    return df"
   ]
  },
  {
   "cell_type": "code",
   "execution_count": 5,
   "id": "64301187",
   "metadata": {},
   "outputs": [],
   "source": [
    "def fillForward(df):\n",
    "    checkItems = [\"?\"]\n",
    "    for col in df:\n",
    "        for index, value in df[col].items():\n",
    "            for k in checkItems:\n",
    "                if value == k or value == math.nan:\n",
    "                    if index+1 >= len(df[col]):\n",
    "                        df[col][index] = df[col][0]\n",
    "                    else:\n",
    "                        df[col][index] = df[col][index+1]\n",
    "    return df"
   ]
  },
  {
   "cell_type": "code",
   "execution_count": 6,
   "id": "53d9dc79",
   "metadata": {},
   "outputs": [],
   "source": [
    "def fillBackward(df):\n",
    "    checkItems = [\"?\"]\n",
    "    for col in df:\n",
    "        for index, value in df[col].items():\n",
    "            for k in checkItems:\n",
    "                if value == k or value == math.nan:\n",
    "                    if index-1 < 0:\n",
    "                        df[col][index] = df[col][len(df[col]) - 1]\n",
    "                    else:\n",
    "                        df[col][index] = df[col][index-1]\n",
    "    return df"
   ]
  },
  {
   "cell_type": "code",
   "execution_count": 7,
   "id": "14c95d26",
   "metadata": {},
   "outputs": [],
   "source": [
    "def labelEncode(df):\n",
    "    for col in df:\n",
    "        if type(df[col][0]) == str:\n",
    "            labels = []\n",
    "            for index, value in df[col].items():\n",
    "                isDup = False\n",
    "                for i in labels:\n",
    "                    if i == value:\n",
    "                        isDup = True\n",
    "                if not isDup:\n",
    "                    labels.append(value)\n",
    "            for index, value in df[col].items():\n",
    "                for i in labels:\n",
    "                    if i == value:\n",
    "                        df[col][index] = labels.index(value)\n",
    "    return df"
   ]
  },
  {
   "cell_type": "code",
   "execution_count": 8,
   "id": "ea24671e",
   "metadata": {},
   "outputs": [],
   "source": [
    "def oneHotEncode(df):\n",
    "    for col in df:\n",
    "        if type(df[col][0]) == str:\n",
    "            labels = []\n",
    "            for index, value in df[col].items():\n",
    "                isDup = False\n",
    "                for i in labels:\n",
    "                    if i == value:\n",
    "                        isDup = True\n",
    "                if not isDup:\n",
    "                    labels.append(value)\n",
    "            for i in labels:\n",
    "                temp = np.zeros(df[col].size)\n",
    "                for index, value in df[col].items():\n",
    "                        if i == value:\n",
    "                            temp[index] = 1\n",
    "                df.insert(col, i, temp)\n",
    "            df.drop(df.columns[[col+len(labels)]], axis=1, inplace=True)\n",
    "    return df"
   ]
  },
  {
   "cell_type": "code",
   "execution_count": 9,
   "id": "c1f6e437",
   "metadata": {},
   "outputs": [],
   "source": [
    "def getLabels(df):\n",
    "    labels = []\n",
    "    for index, value in df.items():\n",
    "        isDup = False\n",
    "        for i in labels:\n",
    "            if i == value:\n",
    "                isDup = True\n",
    "        if not isDup:\n",
    "            labels.append(value)\n",
    "    return labels"
   ]
  },
  {
   "cell_type": "code",
   "execution_count": 10,
   "id": "24d161b1",
   "metadata": {},
   "outputs": [
    {
     "name": "stdout",
     "output_type": "stream",
     "text": [
      "                 precision    recall  f1-score   support\n",
      "\n",
      "    Iris-setosa       1.00      1.00      1.00        13\n",
      "Iris-versicolor       1.00      0.56      0.72        16\n",
      " Iris-virginica       0.56      1.00      0.72         9\n",
      "\n",
      "       accuracy                           0.82        38\n",
      "      macro avg       0.85      0.85      0.81        38\n",
      "   weighted avg       0.90      0.82      0.82        38\n",
      "\n"
     ]
    }
   ],
   "source": [
    "#FOR TESTING PURPOSES ONLY\n",
    "X = iris.iloc[:,0:3].values\n",
    "Y = iris.iloc[:, 4]\n",
    "X_train, X_test, y_train, y_test =train_test_split(X,Y,test_size= 0.25, random_state=0)\n",
    "sc_X = StandardScaler() \n",
    "X_train = sc_X.fit_transform(X_train)\n",
    "X_test = sc_X.fit_transform(X_test)\n",
    "classifer1 = GaussianNB()\n",
    "classifer1.fit(X_train, y_train)\n",
    "y_pred1 = classifer1.predict(X_test)\n",
    "print(classification_report(y_test, y_pred1))"
   ]
  },
  {
   "cell_type": "code",
   "execution_count": 11,
   "id": "054bdf1b",
   "metadata": {},
   "outputs": [
    {
     "name": "stdout",
     "output_type": "stream",
     "text": [
      "['Iris-setosa', 'Iris-versicolor', 'Iris-virginica']\n"
     ]
    },
    {
     "data": {
      "text/plain": [
       "[[13, 0, 0], [0, 9, 0], [0, 7, 9]]"
      ]
     },
     "execution_count": 11,
     "metadata": {},
     "output_type": "execute_result"
    }
   ],
   "source": [
    "def confusionMatrix(pred, truth, label):\n",
    "    matrix = []\n",
    "    for i in range(len(label)):\n",
    "        matrix.append([0] * len(label))\n",
    "    for i in range(len(pred)):\n",
    "        matrix[label.index(pred[i])][label.index(truth[i])] += 1\n",
    "    return matrix\n",
    "print(getLabels(iris.iloc[:,4]))\n",
    "label = getLabels(iris.iloc[:,4])\n",
    "confusionMatrix(np.array(y_pred1), np.array(y_test), label)"
   ]
  },
  {
   "cell_type": "code",
   "execution_count": 12,
   "id": "9c9e6885",
   "metadata": {},
   "outputs": [
    {
     "data": {
      "text/plain": [
       "[13, 9, 9]"
      ]
     },
     "execution_count": 12,
     "metadata": {},
     "output_type": "execute_result"
    }
   ],
   "source": [
    "def truePositive(conmat):\n",
    "    TP = []\n",
    "    for i in range(len(conmat)):\n",
    "        TP.append(conmat[i][i])\n",
    "    return TP\n",
    "truePositive(confusionMatrix(np.array(y_pred1), np.array(y_test), label))"
   ]
  },
  {
   "cell_type": "code",
   "execution_count": 13,
   "id": "3d0bc719",
   "metadata": {},
   "outputs": [
    {
     "data": {
      "text/plain": [
       "[25, 22, 22]"
      ]
     },
     "execution_count": 13,
     "metadata": {},
     "output_type": "execute_result"
    }
   ],
   "source": [
    "def trueNegative(conmat):\n",
    "    TN = []\n",
    "    for i in range(len(conmat)):\n",
    "        count = 0\n",
    "        for j in range(len(conmat)):\n",
    "            for k in range(len(conmat)):\n",
    "                if j != i and k != i:\n",
    "                    count += conmat[j][k]\n",
    "        TN.append(count)\n",
    "    return TN\n",
    "trueNegative(confusionMatrix(np.array(y_pred1), np.array(y_test), label))"
   ]
  },
  {
   "cell_type": "code",
   "execution_count": 14,
   "id": "7a8873da",
   "metadata": {},
   "outputs": [
    {
     "data": {
      "text/plain": [
       "[0, 0, 7]"
      ]
     },
     "execution_count": 14,
     "metadata": {},
     "output_type": "execute_result"
    }
   ],
   "source": [
    "def falsePositive(conmat):\n",
    "    FP = []\n",
    "    for i in range(len(conmat)):\n",
    "        count = 0\n",
    "        for j in range(len(conmat)):\n",
    "            if i != j:\n",
    "                count += conmat[i][j]\n",
    "        FP.append(count)\n",
    "    return FP\n",
    "falsePositive(confusionMatrix(np.array(y_pred1), np.array(y_test), label))"
   ]
  },
  {
   "cell_type": "code",
   "execution_count": 15,
   "id": "461811d4",
   "metadata": {},
   "outputs": [
    {
     "data": {
      "text/plain": [
       "[0, 7, 0]"
      ]
     },
     "execution_count": 15,
     "metadata": {},
     "output_type": "execute_result"
    }
   ],
   "source": [
    "def falseNegative(conmat):\n",
    "    FN = []\n",
    "    for i in range(len(conmat)):\n",
    "        count = 0\n",
    "        for j in range(len(conmat)):\n",
    "            if i != j:\n",
    "                count += conmat[j][i]\n",
    "        FN.append(count)\n",
    "    return FN\n",
    "falseNegative(confusionMatrix(np.array(y_pred1), np.array(y_test), label))"
   ]
  },
  {
   "cell_type": "code",
   "execution_count": 16,
   "id": "d6e6afc5",
   "metadata": {},
   "outputs": [
    {
     "data": {
      "text/plain": [
       "[1.0, 1.0, 0.5625]"
      ]
     },
     "execution_count": 16,
     "metadata": {},
     "output_type": "execute_result"
    }
   ],
   "source": [
    "def precision(pred, truth, label):\n",
    "    conmat = confusionMatrix(np.array(y_pred1), np.array(y_test), label)\n",
    "    TP = truePositive(conmat)\n",
    "    FP = falsePositive(conmat)\n",
    "    prec = []\n",
    "    for i in range(len(conmat)):\n",
    "        prec.append((TP[i])/(TP[i] + FP[i]))\n",
    "    return prec\n",
    "precision(y_pred1, y_test, label)"
   ]
  },
  {
   "cell_type": "code",
   "execution_count": 17,
   "id": "78e95216",
   "metadata": {},
   "outputs": [
    {
     "data": {
      "text/plain": [
       "[1.0, 0.5625, 1.0]"
      ]
     },
     "execution_count": 17,
     "metadata": {},
     "output_type": "execute_result"
    }
   ],
   "source": [
    "def recall(pred, truth, label):\n",
    "    conmat = confusionMatrix(np.array(y_pred1), np.array(y_test), label)\n",
    "    TP = truePositive(conmat)\n",
    "    FN = falseNegative(conmat)\n",
    "    prec = []\n",
    "    for i in range(len(conmat)):\n",
    "        prec.append((TP[i])/(TP[i] + FN[i]))\n",
    "    return prec\n",
    "recall(y_pred1, y_test, label)"
   ]
  },
  {
   "cell_type": "code",
   "execution_count": 18,
   "id": "5eb7f087",
   "metadata": {},
   "outputs": [
    {
     "data": {
      "text/plain": [
       "[1.0, 0.72, 0.72]"
      ]
     },
     "execution_count": 18,
     "metadata": {},
     "output_type": "execute_result"
    }
   ],
   "source": [
    "def fScore(b, pred, truth, label):\n",
    "    prec = precision(pred, truth, label)\n",
    "    rec = recall(pred, truth, label)\n",
    "    f = []\n",
    "    for i in range(len(label)):\n",
    "        Fb = (1 + pow(b, 2))*(prec[i]*rec[i])/((pow(b,2) * prec[i]) + rec[i])\n",
    "        f.append(Fb)\n",
    "    return f\n",
    "\n",
    "def f1Score(pred, truth, label):\n",
    "    return fScore(1, pred, truth, label)\n",
    "\n",
    "f1Score(y_pred1, y_test, label)"
   ]
  },
  {
   "cell_type": "code",
   "execution_count": 19,
   "id": "f076af50",
   "metadata": {},
   "outputs": [
    {
     "data": {
      "text/html": [
       "<div>\n",
       "<style scoped>\n",
       "    .dataframe tbody tr th:only-of-type {\n",
       "        vertical-align: middle;\n",
       "    }\n",
       "\n",
       "    .dataframe tbody tr th {\n",
       "        vertical-align: top;\n",
       "    }\n",
       "\n",
       "    .dataframe thead th {\n",
       "        text-align: right;\n",
       "    }\n",
       "</style>\n",
       "<table border=\"1\" class=\"dataframe\">\n",
       "  <thead>\n",
       "    <tr style=\"text-align: right;\">\n",
       "      <th></th>\n",
       "      <th>0</th>\n",
       "      <th>1</th>\n",
       "      <th>2</th>\n",
       "      <th>3</th>\n",
       "      <th>4</th>\n",
       "    </tr>\n",
       "  </thead>\n",
       "  <tbody>\n",
       "    <tr>\n",
       "      <th>0</th>\n",
       "      <td>5.1</td>\n",
       "      <td>3.5</td>\n",
       "      <td>1.4</td>\n",
       "      <td>0.2</td>\n",
       "      <td>Iris-setosa</td>\n",
       "    </tr>\n",
       "    <tr>\n",
       "      <th>1</th>\n",
       "      <td>4.9</td>\n",
       "      <td>3.0</td>\n",
       "      <td>1.4</td>\n",
       "      <td>0.2</td>\n",
       "      <td>Iris-setosa</td>\n",
       "    </tr>\n",
       "    <tr>\n",
       "      <th>2</th>\n",
       "      <td>4.7</td>\n",
       "      <td>3.2</td>\n",
       "      <td>1.3</td>\n",
       "      <td>0.2</td>\n",
       "      <td>Iris-setosa</td>\n",
       "    </tr>\n",
       "    <tr>\n",
       "      <th>3</th>\n",
       "      <td>4.6</td>\n",
       "      <td>3.1</td>\n",
       "      <td>1.5</td>\n",
       "      <td>0.2</td>\n",
       "      <td>Iris-setosa</td>\n",
       "    </tr>\n",
       "    <tr>\n",
       "      <th>4</th>\n",
       "      <td>5.0</td>\n",
       "      <td>3.6</td>\n",
       "      <td>1.4</td>\n",
       "      <td>0.2</td>\n",
       "      <td>Iris-setosa</td>\n",
       "    </tr>\n",
       "    <tr>\n",
       "      <th>...</th>\n",
       "      <td>...</td>\n",
       "      <td>...</td>\n",
       "      <td>...</td>\n",
       "      <td>...</td>\n",
       "      <td>...</td>\n",
       "    </tr>\n",
       "    <tr>\n",
       "      <th>145</th>\n",
       "      <td>5.9</td>\n",
       "      <td>3.0</td>\n",
       "      <td>5.1</td>\n",
       "      <td>1.8</td>\n",
       "      <td>Iris-virginica</td>\n",
       "    </tr>\n",
       "    <tr>\n",
       "      <th>146</th>\n",
       "      <td>6.7</td>\n",
       "      <td>3.3</td>\n",
       "      <td>5.7</td>\n",
       "      <td>2.5</td>\n",
       "      <td>Iris-virginica</td>\n",
       "    </tr>\n",
       "    <tr>\n",
       "      <th>147</th>\n",
       "      <td>6.7</td>\n",
       "      <td>3.0</td>\n",
       "      <td>5.2</td>\n",
       "      <td>2.3</td>\n",
       "      <td>Iris-virginica</td>\n",
       "    </tr>\n",
       "    <tr>\n",
       "      <th>148</th>\n",
       "      <td>6.3</td>\n",
       "      <td>2.5</td>\n",
       "      <td>5.0</td>\n",
       "      <td>1.9</td>\n",
       "      <td>Iris-virginica</td>\n",
       "    </tr>\n",
       "    <tr>\n",
       "      <th>149</th>\n",
       "      <td>6.2</td>\n",
       "      <td>3.4</td>\n",
       "      <td>5.4</td>\n",
       "      <td>2.3</td>\n",
       "      <td>Iris-virginica</td>\n",
       "    </tr>\n",
       "  </tbody>\n",
       "</table>\n",
       "<p>150 rows × 5 columns</p>\n",
       "</div>"
      ],
      "text/plain": [
       "       0    1    2    3               4\n",
       "0    5.1  3.5  1.4  0.2     Iris-setosa\n",
       "1    4.9  3.0  1.4  0.2     Iris-setosa\n",
       "2    4.7  3.2  1.3  0.2     Iris-setosa\n",
       "3    4.6  3.1  1.5  0.2     Iris-setosa\n",
       "4    5.0  3.6  1.4  0.2     Iris-setosa\n",
       "..   ...  ...  ...  ...             ...\n",
       "145  5.9  3.0  5.1  1.8  Iris-virginica\n",
       "146  6.7  3.3  5.7  2.5  Iris-virginica\n",
       "147  6.7  3.0  5.2  2.3  Iris-virginica\n",
       "148  6.3  2.5  5.0  1.9  Iris-virginica\n",
       "149  6.2  3.4  5.4  2.3  Iris-virginica\n",
       "\n",
       "[150 rows x 5 columns]"
      ]
     },
     "execution_count": 19,
     "metadata": {},
     "output_type": "execute_result"
    }
   ],
   "source": [
    "def shuffle(df):\n",
    "    randoms = int(df.shape[0] * 0.1)\n",
    "    indices = []\n",
    "    rows = []\n",
    "    \n",
    "    for i in range(randoms):\n",
    "        r = random.randint(df.shape[0])\n",
    "        indices.append(r)\n",
    "        rows.append(np.array(df.iloc[[r]]))\n",
    "        \n",
    "    df.drop(indices, axis=0, inplace=True)\n",
    "    df = df.reset_index(drop=True)\n",
    "    \n",
    "    rest = []\n",
    "    for i in range(df.shape[0]):\n",
    "        rest.append(np.array(df.iloc[[i]]))\n",
    "        \n",
    "    for i in rows:\n",
    "        r = random.randint(len(rest))\n",
    "        rest.insert(r, i)\n",
    "    for i in range(len(rest)):\n",
    "        rest[i] = rest[i][0]\n",
    "        \n",
    "    df = pd.DataFrame(rest)\n",
    "    return df\n",
    "\n",
    "shuffle(iris)"
   ]
  },
  {
   "cell_type": "code",
   "execution_count": null,
   "id": "2c07eee1",
   "metadata": {},
   "outputs": [],
   "source": [
    "def plot(lossFunc1, lossFunc2, results):\n",
    "    for i, result in enumerate(results):\n",
    "        "
   ]
  }
 ],
 "metadata": {
  "kernelspec": {
   "display_name": "Python 3 (ipykernel)",
   "language": "python",
   "name": "python3"
  },
  "language_info": {
   "codemirror_mode": {
    "name": "ipython",
    "version": 3
   },
   "file_extension": ".py",
   "mimetype": "text/x-python",
   "name": "python",
   "nbconvert_exporter": "python",
   "pygments_lexer": "ipython3",
   "version": "3.9.12"
  }
 },
 "nbformat": 4,
 "nbformat_minor": 5
}
